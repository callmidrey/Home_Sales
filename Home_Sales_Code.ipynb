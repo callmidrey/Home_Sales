{
  "nbformat": 4,
  "nbformat_minor": 0,
  "metadata": {
    "colab": {
      "provenance": [],
      "toc_visible": true,
      "authorship_tag": "ABX9TyP9Xo6kxSnJBVhJcypQQY45",
      "include_colab_link": true
    },
    "kernelspec": {
      "name": "python3",
      "display_name": "Python 3"
    },
    "language_info": {
      "name": "python"
    }
  },
  "cells": [
    {
      "cell_type": "markdown",
      "metadata": {
        "id": "view-in-github",
        "colab_type": "text"
      },
      "source": [
        "<a href=\"https://colab.research.google.com/github/callmidrey/Home_Sales/blob/main/Home_Sales_Code.ipynb\" target=\"_parent\"><img src=\"https://colab.research.google.com/assets/colab-badge.svg\" alt=\"Open In Colab\"/></a>"
      ]
    },
    {
      "cell_type": "code",
      "execution_count": 4,
      "metadata": {
        "colab": {
          "base_uri": "https://localhost:8080/"
        },
        "id": "KASHmkjqQOEu",
        "outputId": "dfffaf6e-06ed-4fdf-ae78-ed7df24f7ec7"
      },
      "outputs": [
        {
          "output_type": "stream",
          "name": "stdout",
          "text": [
            "Requirement already satisfied: findspark in /usr/local/lib/python3.10/dist-packages (2.0.1)\n"
          ]
        }
      ],
      "source": [
        "# Import findspark and initialize.\n",
        "!pip install findspark\n",
        "import findspark\n",
        "!which spark-submit\n",
        "#findspark.init()"
      ]
    },
    {
      "cell_type": "code",
      "source": [
        "# Import packages\n",
        "!pip install pyspark\n",
        "from pyspark.sql import SparkSession\n",
        "import time\n",
        "\n",
        "# Create a SparkSession\n",
        "spark = SparkSession.builder.appName(\"SparkSQL\").getOrCreate()"
      ],
      "metadata": {
        "colab": {
          "base_uri": "https://localhost:8080/"
        },
        "id": "pd8W7xhaQPx7",
        "outputId": "486c63c1-cc3c-4741-8cc0-35f5f1ce7e0b"
      },
      "execution_count": 6,
      "outputs": [
        {
          "output_type": "stream",
          "name": "stdout",
          "text": [
            "Collecting pyspark\n",
            "  Downloading pyspark-3.5.0.tar.gz (316.9 MB)\n",
            "\u001b[2K     \u001b[90m━━━━━━━━━━━━━━━━━━━━━━━━━━━━━━━━━━━━━━━━\u001b[0m \u001b[32m316.9/316.9 MB\u001b[0m \u001b[31m3.1 MB/s\u001b[0m eta \u001b[36m0:00:00\u001b[0m\n",
            "\u001b[?25h  Preparing metadata (setup.py) ... \u001b[?25l\u001b[?25hdone\n",
            "Requirement already satisfied: py4j==0.10.9.7 in /usr/local/lib/python3.10/dist-packages (from pyspark) (0.10.9.7)\n",
            "Building wheels for collected packages: pyspark\n",
            "  Building wheel for pyspark (setup.py) ... \u001b[?25l\u001b[?25hdone\n",
            "  Created wheel for pyspark: filename=pyspark-3.5.0-py2.py3-none-any.whl size=317425345 sha256=f02961abc905bd27cc28d1db2d6f23efcba71157bc63d770427bf444cfa8898e\n",
            "  Stored in directory: /root/.cache/pip/wheels/41/4e/10/c2cf2467f71c678cfc8a6b9ac9241e5e44a01940da8fbb17fc\n",
            "Successfully built pyspark\n",
            "Installing collected packages: pyspark\n",
            "Successfully installed pyspark-3.5.0\n"
          ]
        }
      ]
    },
    {
      "cell_type": "code",
      "source": [
        "# 1. Read in the AWS S3 bucket into a DataFrame.\n",
        "from pyspark import SparkFiles\n",
        "url = \"https://2u-data-curriculum-team.s3.amazonaws.com/dataviz-classroom/v1.2/22-big-data/home_sales_revised.csv\"\n",
        "spark.sparkContext.addFile(url)\n",
        "data_df = spark.read.csv(SparkFiles.get(\"home_sales_revised.csv\"), sep=\",\",header=True, inferSchema=True,ignoreLeadingWhiteSpace=True)\n",
        "data_df.show()"
      ],
      "metadata": {
        "colab": {
          "base_uri": "https://localhost:8080/"
        },
        "id": "3ZfJ73ttQP1l",
        "outputId": "30ffcd93-87e4-4f43-fa87-5230f8af76fc"
      },
      "execution_count": 9,
      "outputs": [
        {
          "output_type": "stream",
          "name": "stdout",
          "text": [
            "+--------------------+----------+----------+------+--------+---------+-----------+--------+------+----------+----+\n",
            "|                  id|      date|date_built| price|bedrooms|bathrooms|sqft_living|sqft_lot|floors|waterfront|view|\n",
            "+--------------------+----------+----------+------+--------+---------+-----------+--------+------+----------+----+\n",
            "|f8a53099-ba1c-47d...|2022-04-08|      2016|936923|       4|        3|       3167|   11733|     2|         1|  76|\n",
            "|7530a2d8-1ae3-451...|2021-06-13|      2013|379628|       2|        2|       2235|   14384|     1|         0|  23|\n",
            "|43de979c-0bf0-4c9...|2019-04-12|      2014|417866|       2|        2|       2127|   10575|     2|         0|   0|\n",
            "|b672c137-b88c-48b...|2019-10-16|      2016|239895|       2|        2|       1631|   11149|     2|         0|   0|\n",
            "|e0726d4d-d595-407...|2022-01-08|      2017|424418|       3|        2|       2249|   13878|     2|         0|   4|\n",
            "|5aa00529-0533-46b...|2019-01-30|      2017|218712|       2|        3|       1965|   14375|     2|         0|   7|\n",
            "|131492a1-72e2-4a8...|2020-02-08|      2017|419199|       2|        3|       2062|    8876|     2|         0|   6|\n",
            "|8d54a71b-c520-44e...|2019-07-21|      2010|323956|       2|        3|       1506|   11816|     1|         0|  25|\n",
            "|e81aacfe-17fe-46b...|2020-06-16|      2016|181925|       3|        3|       2137|   11709|     2|         0|  22|\n",
            "|2ed8d509-7372-46d...|2021-08-06|      2015|258710|       3|        3|       1918|    9666|     1|         0|  25|\n",
            "|f876d86f-3c9f-42b...|2019-02-27|      2011|167864|       3|        3|       2471|   13924|     2|         0|  15|\n",
            "|0a2bd445-8508-4d8...|2021-12-30|      2014|337527|       2|        3|       1926|   12556|     1|         0|  23|\n",
            "|941bad30-eb49-4a7...|2020-05-09|      2015|229896|       3|        3|       2197|    8641|     1|         0|   3|\n",
            "|dd61eb34-6589-4c0...|2021-07-25|      2016|210247|       3|        2|       1672|   11986|     2|         0|  28|\n",
            "|f1e4cef7-d151-439...|2019-02-01|      2011|398667|       2|        3|       2331|   11356|     1|         0|   7|\n",
            "|ea620c7b-c2f7-4c6...|2021-05-31|      2011|437958|       3|        3|       2356|   11052|     1|         0|  26|\n",
            "|f233cb41-6f33-4b0...|2021-07-18|      2016|437375|       4|        3|       1704|   11721|     2|         0|  34|\n",
            "|c797ca12-52cd-4b1...|2019-06-08|      2015|288650|       2|        3|       2100|   10419|     2|         0|   7|\n",
            "|0cfe57f3-28c2-472...|2019-10-04|      2015|308313|       3|        3|       1960|    9453|     2|         0|   2|\n",
            "|4566cd2a-ac6e-435...|2019-07-15|      2016|177541|       3|        3|       2130|   10517|     2|         0|  25|\n",
            "+--------------------+----------+----------+------+--------+---------+-----------+--------+------+----------+----+\n",
            "only showing top 20 rows\n",
            "\n"
          ]
        }
      ]
    },
    {
      "cell_type": "code",
      "source": [
        "# get data types\n",
        "data_df.printSchema()"
      ],
      "metadata": {
        "colab": {
          "base_uri": "https://localhost:8080/"
        },
        "id": "PmBXFnSYQP6D",
        "outputId": "fb4aa85e-bab9-4363-89f5-8a7d9f691cc8"
      },
      "execution_count": 10,
      "outputs": [
        {
          "output_type": "stream",
          "name": "stdout",
          "text": [
            "root\n",
            " |-- id: string (nullable = true)\n",
            " |-- date: date (nullable = true)\n",
            " |-- date_built: integer (nullable = true)\n",
            " |-- price: integer (nullable = true)\n",
            " |-- bedrooms: integer (nullable = true)\n",
            " |-- bathrooms: integer (nullable = true)\n",
            " |-- sqft_living: integer (nullable = true)\n",
            " |-- sqft_lot: integer (nullable = true)\n",
            " |-- floors: integer (nullable = true)\n",
            " |-- waterfront: integer (nullable = true)\n",
            " |-- view: integer (nullable = true)\n",
            "\n"
          ]
        }
      ]
    },
    {
      "cell_type": "code",
      "source": [
        "# 2. Create a temporary view of the DataFrame.\n",
        "data_df.createOrReplaceTempView('home_sales')"
      ],
      "metadata": {
        "id": "dVvVFy4nQP9R"
      },
      "execution_count": 11,
      "outputs": []
    },
    {
      "cell_type": "code",
      "source": [
        "# 3. What is the average price for a four bedroom house sold in each year rounded to two decimal places?\n",
        "spark.sql(\"\"\"\n",
        "SELECT YEAR(date) AS Year,\n",
        "        FORMAT_NUMBER(AVG(price), 2) AS AvgPrice,\n",
        "        bedrooms\n",
        "FROM home_sales\n",
        "WHERE bedrooms = 4\n",
        "GROUP BY Year, bedrooms\n",
        "\"\"\").show()"
      ],
      "metadata": {
        "colab": {
          "base_uri": "https://localhost:8080/"
        },
        "id": "07VhSLGLQQBE",
        "outputId": "3d4e03f6-dc07-4250-f4d9-3e7dc2533875"
      },
      "execution_count": 12,
      "outputs": [
        {
          "output_type": "stream",
          "name": "stdout",
          "text": [
            "+----+----------+--------+\n",
            "|Year|  AvgPrice|bedrooms|\n",
            "+----+----------+--------+\n",
            "|2020|298,353.78|       4|\n",
            "|2019|300,263.70|       4|\n",
            "|2022|296,363.88|       4|\n",
            "|2021|301,819.44|       4|\n",
            "+----+----------+--------+\n",
            "\n"
          ]
        }
      ]
    },
    {
      "cell_type": "code",
      "source": [
        "# 4. What is the average price of a home for each year the home was built that have 3 bedrooms and 3 bathrooms rounded to two decimal places?\n",
        "spark.sql(\"\"\"\n",
        "SELECT YEAR(date) AS Year,\n",
        "        FORMAT_NUMBER(AVG(price), 2) AS AvgPrice,\n",
        "        bedrooms,\n",
        "        bathrooms\n",
        "FROM home_sales\n",
        "WHERE bedrooms = 3 AND\n",
        "          bathrooms = 3\n",
        "GROUP BY Year, bedrooms,bathrooms\n",
        "\"\"\").show()"
      ],
      "metadata": {
        "colab": {
          "base_uri": "https://localhost:8080/"
        },
        "id": "_U5AGshRQQFh",
        "outputId": "f846e0e6-d49c-4663-b576-7b793d4ab57d"
      },
      "execution_count": 13,
      "outputs": [
        {
          "output_type": "stream",
          "name": "stdout",
          "text": [
            "+----+----------+--------+---------+\n",
            "|Year|  AvgPrice|bedrooms|bathrooms|\n",
            "+----+----------+--------+---------+\n",
            "|2019|287,287.82|       3|        3|\n",
            "|2021|294,211.46|       3|        3|\n",
            "|2022|292,725.69|       3|        3|\n",
            "|2020|294,204.16|       3|        3|\n",
            "+----+----------+--------+---------+\n",
            "\n"
          ]
        }
      ]
    },
    {
      "cell_type": "code",
      "source": [
        "#  5. What is the average price of a home for each year built that have 3 bedrooms, 3 bathrooms, with two floors, and are greater than or equal to 2,000 square feet rounded to two decimal places?\n",
        "spark.sql(\"\"\"\n",
        "SELECT YEAR(date) AS Year,\n",
        "        FORMAT_NUMBER(AVG(price), 2) AS AvgPrice,\n",
        "        sqft_living AS SquareFeet,\n",
        "        bedrooms,\n",
        "        bathrooms,\n",
        "        floors\n",
        "FROM home_sales\n",
        "WHERE bedrooms = 3 AND\n",
        "      bathrooms = 3 AND\n",
        "      floors = 2\n",
        "GROUP BY Year, bedrooms, bathrooms, floors,sqft_living\n",
        "HAVING SquareFeet >= 2000\n",
        "\"\"\").show()"
      ],
      "metadata": {
        "colab": {
          "base_uri": "https://localhost:8080/"
        },
        "id": "vx38GJCmQQLB",
        "outputId": "e6c30655-bf86-4132-ca36-3f4f905526fb"
      },
      "execution_count": 14,
      "outputs": [
        {
          "output_type": "stream",
          "name": "stdout",
          "text": [
            "+----+----------+----------+--------+---------+------+\n",
            "|Year|  AvgPrice|SquareFeet|bedrooms|bathrooms|floors|\n",
            "+----+----------+----------+--------+---------+------+\n",
            "|2021|342,842.00|      2040|       3|        3|     2|\n",
            "|2019|344,395.50|      2225|       3|        3|     2|\n",
            "|2020|328,475.00|      2430|       3|        3|     2|\n",
            "|2019|238,168.50|      2146|       3|        3|     2|\n",
            "|2021|223,046.00|      2016|       3|        3|     2|\n",
            "|2021|326,515.00|      2258|       3|        3|     2|\n",
            "|2019|277,687.00|      2104|       3|        3|     2|\n",
            "|2020|241,470.00|      2218|       3|        3|     2|\n",
            "|2019|200,041.00|      2189|       3|        3|     2|\n",
            "|2021|178,946.33|      2116|       3|        3|     2|\n",
            "|2020|139,421.00|      2002|       3|        3|     2|\n",
            "|2021|172,883.00|      2167|       3|        3|     2|\n",
            "|2019|161,976.00|      2411|       3|        3|     2|\n",
            "|2019|380,939.00|      2154|       3|        3|     2|\n",
            "|2021|341,846.00|      2317|       3|        3|     2|\n",
            "|2020|314,358.00|      2013|       3|        3|     2|\n",
            "|2020|176,215.00|      2330|       3|        3|     2|\n",
            "|2021|315,248.00|      2460|       3|        3|     2|\n",
            "|2020|248,526.00|      2280|       3|        3|     2|\n",
            "|2019|551,822.00|      5047|       3|        3|     2|\n",
            "+----+----------+----------+--------+---------+------+\n",
            "only showing top 20 rows\n",
            "\n"
          ]
        }
      ]
    },
    {
      "cell_type": "code",
      "source": [
        "# 6. What is the \"view\" rating for the average price of a home, rounded to two decimal places, where the homes are greater than or equal to $350,000? Although this is a small dataset, determine the run time for this query.\n",
        "\n",
        "start_time = time.time()\n",
        "spark.sql(\"\"\"\n",
        "    SELECT view,\n",
        "           FORMAT_NUMBER(AVG(price),2) AS AvgPrice\n",
        "    FROM home_sales\n",
        "    GROUP BY view\n",
        "    HAVING AVG(price) >= 350000\n",
        "\"\"\").show()\n",
        "\n",
        "print(\"--- %s seconds ---\" % (time.time() - start_time))"
      ],
      "metadata": {
        "colab": {
          "base_uri": "https://localhost:8080/"
        },
        "id": "Ubr9lYUtTeTI",
        "outputId": "002551aa-8d3c-4d17-e28b-c69fccda3439"
      },
      "execution_count": 15,
      "outputs": [
        {
          "output_type": "stream",
          "name": "stdout",
          "text": [
            "+----+------------+\n",
            "|view|    AvgPrice|\n",
            "+----+------------+\n",
            "|  85|1,056,336.74|\n",
            "|  65|  736,679.93|\n",
            "|  53|  755,214.80|\n",
            "|  78|1,080,649.37|\n",
            "|  81|1,053,472.79|\n",
            "|  76|1,058,802.78|\n",
            "|  91|1,137,372.73|\n",
            "|  93|1,026,006.06|\n",
            "|  52|  733,780.26|\n",
            "|  86|1,070,444.25|\n",
            "|  94|1,033,536.20|\n",
            "|  57|  734,340.50|\n",
            "|  54|  798,684.82|\n",
            "|  96|1,017,815.92|\n",
            "|  92|  970,402.55|\n",
            "|  64|  767,036.67|\n",
            "|  61|  746,877.59|\n",
            "|  88|1,031,719.35|\n",
            "|  72|  780,914.67|\n",
            "|  59|  791,453.00|\n",
            "+----+------------+\n",
            "only showing top 20 rows\n",
            "\n",
            "--- 0.8789215087890625 seconds ---\n"
          ]
        }
      ]
    },
    {
      "cell_type": "code",
      "source": [
        "# 7. Cache the the temporary table home_sales.\n",
        "spark.sql(\"cache table home_sales\")"
      ],
      "metadata": {
        "colab": {
          "base_uri": "https://localhost:8080/"
        },
        "id": "tjVX6puOTeWV",
        "outputId": "5cdc0bbe-6a14-452b-9bef-d78ad6b03f02"
      },
      "execution_count": 16,
      "outputs": [
        {
          "output_type": "execute_result",
          "data": {
            "text/plain": [
              "DataFrame[]"
            ]
          },
          "metadata": {},
          "execution_count": 16
        }
      ]
    },
    {
      "cell_type": "code",
      "source": [
        "# 8. Check if the table is cached.\n",
        "spark.catalog.isCached('home_sales')"
      ],
      "metadata": {
        "colab": {
          "base_uri": "https://localhost:8080/"
        },
        "id": "3NXlSk6ETed3",
        "outputId": "fff84495-e2ec-42a4-b7b7-b1332259b2c4"
      },
      "execution_count": 17,
      "outputs": [
        {
          "output_type": "execute_result",
          "data": {
            "text/plain": [
              "True"
            ]
          },
          "metadata": {},
          "execution_count": 17
        }
      ]
    },
    {
      "cell_type": "code",
      "source": [
        "# 9. Using the cached data, run the query that filters out the view ratings with average price\n",
        "#  greater than or equal to $350,000. Determine the runtime and compare it to uncached runtime.\n",
        "start_time = time.time()\n",
        "spark.sql(\"\"\"\n",
        "    SELECT view,\n",
        "           FORMAT_NUMBER(AVG(price),2) AS AvgPrice\n",
        "    FROM home_sales\n",
        "    GROUP BY view\n",
        "    HAVING AVG(price) >= 350000\n",
        "\"\"\").show()\n",
        "\n",
        "print(\"--- %s seconds ---\" % (time.time() - start_time))\n"
      ],
      "metadata": {
        "colab": {
          "base_uri": "https://localhost:8080/"
        },
        "id": "N0uzEF3YTehQ",
        "outputId": "e510fb49-f72b-4153-ecee-8626be53ace3"
      },
      "execution_count": 18,
      "outputs": [
        {
          "output_type": "stream",
          "name": "stdout",
          "text": [
            "+----+------------+\n",
            "|view|    AvgPrice|\n",
            "+----+------------+\n",
            "|  85|1,056,336.74|\n",
            "|  65|  736,679.93|\n",
            "|  53|  755,214.80|\n",
            "|  78|1,080,649.37|\n",
            "|  81|1,053,472.79|\n",
            "|  76|1,058,802.78|\n",
            "|  91|1,137,372.73|\n",
            "|  93|1,026,006.06|\n",
            "|  52|  733,780.26|\n",
            "|  86|1,070,444.25|\n",
            "|  94|1,033,536.20|\n",
            "|  57|  734,340.50|\n",
            "|  54|  798,684.82|\n",
            "|  96|1,017,815.92|\n",
            "|  92|  970,402.55|\n",
            "|  64|  767,036.67|\n",
            "|  61|  746,877.59|\n",
            "|  88|1,031,719.35|\n",
            "|  72|  780,914.67|\n",
            "|  59|  791,453.00|\n",
            "+----+------------+\n",
            "only showing top 20 rows\n",
            "\n",
            "--- 0.5305171012878418 seconds ---\n"
          ]
        }
      ]
    },
    {
      "cell_type": "code",
      "source": [
        "# 10. Partition by the \"date_built\" field on the formatted parquet home sales data\n",
        "data_df.write.partitionBy(\"date_built\").mode(\"overwrite\").parquet(\"home_partitioned\")\n",
        "#data_df.head()"
      ],
      "metadata": {
        "id": "jIw9ajiATekX"
      },
      "execution_count": 28,
      "outputs": []
    },
    {
      "cell_type": "code",
      "source": [
        "# 11. Read the formatted parquet data.\n",
        "par_df = spark.read.parquet('home_partitioned')"
      ],
      "metadata": {
        "id": "qxZDGLqiXViZ"
      },
      "execution_count": 22,
      "outputs": []
    },
    {
      "cell_type": "code",
      "source": [
        "# 12. Create a temporary table for the parquet data.\n",
        "par_df.createOrReplaceTempView('par_home')"
      ],
      "metadata": {
        "id": "CwJfJ7xoXVtD"
      },
      "execution_count": 23,
      "outputs": []
    },
    {
      "cell_type": "code",
      "source": [
        "# 13. Run the query that filters out the view ratings with average price of greater than or eqaul to $350,000\n",
        "# with the parquet DataFrame. Round your average to two decimal places.\n",
        "# Determine the runtime and compare it to the cached version.\n",
        "\n",
        "start_time = time.time()\n",
        "spark.sql(\"\"\"\n",
        "    SELECT view,\n",
        "           FORMAT_NUMBER(AVG(price),2) AS AvgPrice\n",
        "    FROM home_sales\n",
        "    GROUP BY view\n",
        "    HAVING AVG(price) >= 350000\n",
        "\"\"\").show()\n",
        "print(\"--- %s seconds ---\" % (time.time() - start_time))"
      ],
      "metadata": {
        "colab": {
          "base_uri": "https://localhost:8080/"
        },
        "id": "P1W1uKItXV05",
        "outputId": "577759c1-92bc-46ec-bf8e-bd2da9a4f6fe"
      },
      "execution_count": 24,
      "outputs": [
        {
          "output_type": "stream",
          "name": "stdout",
          "text": [
            "+----+------------+\n",
            "|view|    AvgPrice|\n",
            "+----+------------+\n",
            "|  85|1,056,336.74|\n",
            "|  65|  736,679.93|\n",
            "|  53|  755,214.80|\n",
            "|  78|1,080,649.37|\n",
            "|  81|1,053,472.79|\n",
            "|  76|1,058,802.78|\n",
            "|  91|1,137,372.73|\n",
            "|  93|1,026,006.06|\n",
            "|  52|  733,780.26|\n",
            "|  86|1,070,444.25|\n",
            "|  94|1,033,536.20|\n",
            "|  57|  734,340.50|\n",
            "|  54|  798,684.82|\n",
            "|  96|1,017,815.92|\n",
            "|  92|  970,402.55|\n",
            "|  64|  767,036.67|\n",
            "|  61|  746,877.59|\n",
            "|  88|1,031,719.35|\n",
            "|  72|  780,914.67|\n",
            "|  59|  791,453.00|\n",
            "+----+------------+\n",
            "only showing top 20 rows\n",
            "\n",
            "--- 0.45511770248413086 seconds ---\n"
          ]
        }
      ]
    },
    {
      "cell_type": "code",
      "source": [
        "# 14. Uncache the home_sales temporary table.\n",
        "spark.sql(\"uncache table home_sales\")"
      ],
      "metadata": {
        "colab": {
          "base_uri": "https://localhost:8080/"
        },
        "id": "rnuOxEIQX__a",
        "outputId": "49d48642-4f54-4ec9-abe0-54fb3260576c"
      },
      "execution_count": 25,
      "outputs": [
        {
          "output_type": "execute_result",
          "data": {
            "text/plain": [
              "DataFrame[]"
            ]
          },
          "metadata": {},
          "execution_count": 25
        }
      ]
    },
    {
      "cell_type": "code",
      "source": [
        "# 15. Check if the home_sales is no longer cached\n",
        "spark.catalog.isCached('home_sales')"
      ],
      "metadata": {
        "colab": {
          "base_uri": "https://localhost:8080/"
        },
        "id": "K9xDD21hYAHA",
        "outputId": "45f99d08-8e4c-4566-d90f-0a012ff62a19"
      },
      "execution_count": 26,
      "outputs": [
        {
          "output_type": "execute_result",
          "data": {
            "text/plain": [
              "False"
            ]
          },
          "metadata": {},
          "execution_count": 26
        }
      ]
    },
    {
      "cell_type": "code",
      "source": [
        "\n"
      ],
      "metadata": {
        "id": "U7CjYRhaYAKQ"
      },
      "execution_count": null,
      "outputs": []
    }
  ]
}